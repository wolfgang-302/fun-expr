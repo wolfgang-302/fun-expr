{
 "cells": [
  {
   "cell_type": "markdown",
   "metadata": {},
   "source": [
    "# Determine polynomial functions of degree 2"
   ]
  },
  {
   "cell_type": "markdown",
   "metadata": {},
   "source": [
    "From the graph $y=f(x)$ of a polynomial function $f$ of degree 2 the following three points are known:\n",
    "\n",
    "$P(2|4)$, $Q(3|5)$, $R(-1|-3)$\n",
    "\n",
    "Determine the equation of this function \n",
    "\n",
    "- in its normal form, $f(x) = a\\,x^2 + b\\,x + c$, and\n",
    "- in its vertex form, $f_s(x) = a_s\\,(x-x_s)^2 + y_s$"
   ]
  },
  {
   "cell_type": "code",
   "execution_count": 24,
   "metadata": {},
   "outputs": [],
   "source": [
    "# Initialisations\n",
    "\n",
    "from sympy import *\n",
    "init_printing()\n",
    "\n",
    "import matplotlib.pyplot as plt\n",
    "\n",
    "# usually you want this\n",
    "%matplotlib inline \n",
    "\n",
    "# useful for OS X\n",
    "%config InlineBackend.figure_format='retina' \n",
    "\n",
    "import numpy as np\n",
    "\n",
    "from IPython.display import display, Math\n",
    "\n",
    "from fun_expr import Function_from_Expression as FE"
   ]
  },
  {
   "cell_type": "code",
   "execution_count": 25,
   "metadata": {},
   "outputs": [
    {
     "data": {
      "text/latex": [
       "$\\displaystyle f\\left(x\\right) = a x^{2} + b x + c$"
      ],
      "text/plain": [
       "<IPython.core.display.Math object>"
      ]
     },
     "execution_count": 25,
     "metadata": {},
     "output_type": "execute_result"
    }
   ],
   "source": [
    "# To define f, we first need a variable x\n",
    "# and three coefficients a,b,c\n",
    "# with these, f is defined\n",
    "x = Symbol('x')\n",
    "\n",
    "a,b,c = symbols('a,b,c')\n",
    "\n",
    "f = FE(x, a*x**2 + b*x + c, name='f')\n",
    "f.equation()"
   ]
  },
  {
   "cell_type": "code",
   "execution_count": 26,
   "metadata": {},
   "outputs": [
    {
     "data": {
      "image/png": "[encoded data removed]",
      "text/latex": [
       "$\\displaystyle 4 a + 2 b + c = 4$"
      ],
      "text/plain": [
       "4⋅a + 2⋅b + c = 4"
      ]
     },
     "metadata": {},
     "output_type": "display_data"
    },
    {
     "data": {
      "image/png": "[encoded data removed]",
      "text/latex": [
       "$\\displaystyle 9 a + 3 b + c = 5$"
      ],
      "text/plain": [
       "9⋅a + 3⋅b + c = 5"
      ]
     },
     "metadata": {},
     "output_type": "display_data"
    },
    {
     "data": {
      "image/png": "[encoded data removed]",
      "text/latex": [
       "$\\displaystyle a - b + c = -3$"
      ],
      "text/plain": [
       "a - b + c = -3"
      ]
     },
     "metadata": {},
     "output_type": "display_data"
    }
   ],
   "source": [
    "# define points and determine equations\n",
    "x_1,y_1 = 2,4\n",
    "x_2,y_2 = 3,5\n",
    "x_3,y_3 = -1,-3\n",
    "\n",
    "pts = [(x_1,y_1),(x_2,y_2),(x_3,y_3)]\n",
    "\n",
    "eqns = [Eq(f(x_1),y_1),\n",
    "        Eq(f(x_2),y_2),\n",
    "        Eq(f(x_3),y_3)]\n",
    "\n",
    "# display result\n",
    "for eq in eqns:\n",
    "    display(eq)"
   ]
  },
  {
   "cell_type": "code",
   "execution_count": 27,
   "metadata": {},
   "outputs": [
    {
     "data": {
      "image/png": "[encoded data removed]",
      "text/latex": [
       "$\\displaystyle \\left\\{ a : - \\frac{1}{3}, \\  b : \\frac{8}{3}, \\  c : 0\\right\\}$"
      ],
      "text/plain": [
       "{a: -1/3, b: 8/3, c: 0}"
      ]
     },
     "execution_count": 27,
     "metadata": {},
     "output_type": "execute_result"
    }
   ],
   "source": [
    "# solve eqnations\n",
    "sol = solve(eqns)\n",
    "\n",
    "# display results\n",
    "sol"
   ]
  },
  {
   "cell_type": "code",
   "execution_count": 28,
   "metadata": {},
   "outputs": [
    {
     "data": {
      "text/latex": [
       "$\\displaystyle f\\left(x\\right) = - \\frac{x^{2}}{3} + \\frac{8 x}{3}$"
      ],
      "text/plain": [
       "<IPython.core.display.Math object>"
      ]
     },
     "execution_count": 28,
     "metadata": {},
     "output_type": "execute_result"
    }
   ],
   "source": [
    "# substitute result into f\n",
    "f = f.subs(sol)\n",
    "\n",
    "# show result\n",
    "f.equation()"
   ]
  },
  {
   "cell_type": "markdown",
   "metadata": {},
   "source": [
    "To find the vertex form $f_s(x) = a_s\\,(x-x_s)^2 + y_s$, a new function is defined"
   ]
  },
  {
   "cell_type": "code",
   "execution_count": 29,
   "metadata": {},
   "outputs": [
    {
     "data": {
      "text/latex": [
       "$\\displaystyle f_s\\left(x\\right) = a_{s} \\left(x - x_{s}\\right)^{2} + y_{s}$"
      ],
      "text/plain": [
       "<IPython.core.display.Math object>"
      ]
     },
     "execution_count": 29,
     "metadata": {},
     "output_type": "execute_result"
    }
   ],
   "source": [
    "# define f_s\n",
    "x = Symbol('x')\n",
    "a_s, x_s, y_s = symbols('a_s,x_s,y_s')\n",
    "\n",
    "f_s = FE(x, a_s*(x-x_s)**2 + y_s, name='f_s')\n",
    "f_s.equation()"
   ]
  },
  {
   "cell_type": "markdown",
   "metadata": {},
   "source": [
    "The expanded coefficients of $f_s$ must be equal to the coefficients of the known function $f$.\n",
    "\n",
    "First, we create an expression `expr`, to hold the expanded form of $f_s(x)$"
   ]
  },
  {
   "cell_type": "code",
   "execution_count": 30,
   "metadata": {},
   "outputs": [
    {
     "data": {
      "image/png": "[encoded data removed]",
      "text/latex": [
       "$\\displaystyle a_{s} x^{2} - 2 a_{s} x x_{s} + a_{s} x_{s}^{2} + y_{s}$"
      ],
      "text/plain": [
       "    2                    2     \n",
       "aₛ⋅x  - 2⋅aₛ⋅x⋅xₛ + aₛ⋅xₛ  + yₛ"
      ]
     },
     "execution_count": 30,
     "metadata": {},
     "output_type": "execute_result"
    }
   ],
   "source": [
    "expr = f_s(x).expand()\n",
    "expr"
   ]
  },
  {
   "cell_type": "markdown",
   "metadata": {},
   "source": [
    "Then the method `expr.coeff` is used to get the coefficients of all powers of `x`:"
   ]
  },
  {
   "cell_type": "code",
   "execution_count": 31,
   "metadata": {},
   "outputs": [
    {
     "data": {
      "image/png": "[encoded data removed]",
      "text/latex": [
       "$\\displaystyle \\left[ a_{s} x_{s}^{2} + y_{s}, \\  - 2 a_{s} x_{s}, \\  a_{s}\\right]$"
      ],
      "text/plain": [
       "⎡     2                   ⎤\n",
       "⎣aₛ⋅xₛ  + yₛ, -2⋅aₛ⋅xₛ, aₛ⎦"
      ]
     },
     "execution_count": 31,
     "metadata": {},
     "output_type": "execute_result"
    }
   ],
   "source": [
    "c_s = [expr.coeff(x,i) for i in range(3)]\n",
    "c_s"
   ]
  },
  {
   "cell_type": "markdown",
   "metadata": {},
   "source": [
    "In the same way, the list of coefficients of `f(x)` is determined.\n",
    "\n",
    "Here, `f(x)` is an expression, an we can use the method `f(x).coeff` directly."
   ]
  },
  {
   "cell_type": "code",
   "execution_count": 32,
   "metadata": {},
   "outputs": [
    {
     "data": {
      "image/png": "[encoded data removed]",
      "text/latex": [
       "$\\displaystyle \\left[ 0, \\  \\frac{8}{3}, \\  - \\frac{1}{3}\\right]$"
      ],
      "text/plain": [
       "[0, 8/3, -1/3]"
      ]
     },
     "execution_count": 32,
     "metadata": {},
     "output_type": "execute_result"
    }
   ],
   "source": [
    "c = [f(x).coeff(x,i) for i in range(3)]\n",
    "c"
   ]
  },
  {
   "cell_type": "markdown",
   "metadata": {},
   "source": [
    "This leads to a system of equations:"
   ]
  },
  {
   "cell_type": "code",
   "execution_count": 33,
   "metadata": {},
   "outputs": [
    {
     "data": {
      "image/png": "[encoded data removed]",
      "text/latex": [
       "$\\displaystyle a_{s} x_{s}^{2} + y_{s} = 0$"
      ],
      "text/plain": [
       "     2         \n",
       "aₛ⋅xₛ  + yₛ = 0"
      ]
     },
     "metadata": {},
     "output_type": "display_data"
    },
    {
     "data": {
      "image/png": "[encoded data removed]",
      "text/latex": [
       "$\\displaystyle - 2 a_{s} x_{s} = \\frac{8}{3}$"
      ],
      "text/plain": [
       "-2⋅aₛ⋅xₛ = 8/3"
      ]
     },
     "metadata": {},
     "output_type": "display_data"
    },
    {
     "data": {
      "image/png": "[encoded data removed]",
      "text/latex": [
       "$\\displaystyle a_{s} = - \\frac{1}{3}$"
      ],
      "text/plain": [
       "aₛ = -1/3"
      ]
     },
     "metadata": {},
     "output_type": "display_data"
    }
   ],
   "source": [
    "eqns_s = [Eq(lc,rc) for lc,rc in zip(c_s,c)]\n",
    "\n",
    "for eq in eqns_s:\n",
    "    display(eq)"
   ]
  },
  {
   "cell_type": "markdown",
   "metadata": {},
   "source": [
    "This system of equations could also be archieved by"
   ]
  },
  {
   "cell_type": "code",
   "execution_count": 34,
   "metadata": {},
   "outputs": [
    {
     "data": {
      "image/png": "[encoded data removed]",
      "text/latex": [
       "$\\displaystyle a_{s} x_{s}^{2} + y_{s} = 0$"
      ],
      "text/plain": [
       "     2         \n",
       "aₛ⋅xₛ  + yₛ = 0"
      ]
     },
     "metadata": {},
     "output_type": "display_data"
    },
    {
     "data": {
      "image/png": "[encoded data removed]",
      "text/latex": [
       "$\\displaystyle - 2 a_{s} x_{s} = \\frac{8}{3}$"
      ],
      "text/plain": [
       "-2⋅aₛ⋅xₛ = 8/3"
      ]
     },
     "metadata": {},
     "output_type": "display_data"
    },
    {
     "data": {
      "image/png": "[encoded data removed]",
      "text/latex": [
       "$\\displaystyle a_{s} = - \\frac{1}{3}$"
      ],
      "text/plain": [
       "aₛ = -1/3"
      ]
     },
     "metadata": {},
     "output_type": "display_data"
    }
   ],
   "source": [
    "eqns_s = [Eq(f_s(x).expand().coeff(x,i),f(x).coeff(x,i)) for i in range(3)]\n",
    "\n",
    "for eq in eqns_s:\n",
    "    display(eq)"
   ]
  },
  {
   "cell_type": "markdown",
   "metadata": {},
   "source": [
    "The solution gives the unknown values $a_s$, $x_s$ and $y_s$:"
   ]
  },
  {
   "cell_type": "code",
   "execution_count": 35,
   "metadata": {},
   "outputs": [
    {
     "data": {
      "image/png": "[encoded data removed]",
      "text/latex": [
       "$\\displaystyle \\left[ \\left\\{ a_{s} : - \\frac{1}{3}, \\  x_{s} : 4, \\  y_{s} : \\frac{16}{3}\\right\\}\\right]$"
      ],
      "text/plain": [
       "[{aₛ: -1/3, xₛ: 4, yₛ: 16/3}]"
      ]
     },
     "execution_count": 35,
     "metadata": {},
     "output_type": "execute_result"
    }
   ],
   "source": [
    "sol_s = solve(eqns_s)\n",
    "sol_s"
   ]
  },
  {
   "cell_type": "markdown",
   "metadata": {},
   "source": [
    "Since the system of equations is not linear, the solution is a list of possible solutions. This list contains only one dict of solutions."
   ]
  },
  {
   "cell_type": "code",
   "execution_count": 36,
   "metadata": {},
   "outputs": [
    {
     "data": {
      "text/latex": [
       "$\\displaystyle f_s\\left(x\\right) = \\frac{16}{3} - \\frac{\\left(x - 4\\right)^{2}}{3}$"
      ],
      "text/plain": [
       "<IPython.core.display.Math object>"
      ]
     },
     "execution_count": 36,
     "metadata": {},
     "output_type": "execute_result"
    }
   ],
   "source": [
    "# substitute sol_s into f_s\n",
    "f_s = f_s.subs(*sol_s)\n",
    "f_s.equation()"
   ]
  },
  {
   "cell_type": "code",
   "execution_count": 37,
   "metadata": {},
   "outputs": [
    {
     "data": {
      "text/plain": [
       "True"
      ]
     },
     "execution_count": 37,
     "metadata": {},
     "output_type": "execute_result"
    }
   ],
   "source": [
    "# f and f_s define essentially the same function.\n",
    "# To see this, we need both of them in expanded form\n",
    "f(x) == f_s(x).expand()"
   ]
  },
  {
   "cell_type": "markdown",
   "metadata": {},
   "source": [
    "Display the result:"
   ]
  },
  {
   "cell_type": "code",
   "execution_count": 38,
   "metadata": {},
   "outputs": [
    {
     "data": {
      "image/png": "[encoded data removed]",
      "text/plain": [
       "<Figure size 432x288 with 1 Axes>"
      ]
     },
     "metadata": {
      "image/png": {
       "height": 277,
       "width": 384
      },
      "needs_background": "light"
     },
     "output_type": "display_data"
    }
   ],
   "source": [
    "# init new plot\n",
    "fig, ax = plt.subplots()\n",
    "\n",
    "# redefine x_s\n",
    "x_s = x_s.subs(*sol_s)\n",
    "d = 6\n",
    "\n",
    "# the interval along the x-axis\n",
    "lx = np.linspace(float(x_s-d),float(x_s+d))\n",
    "\n",
    "# plot f(x), the given points and the vertex\n",
    "ax.plot(lx,f.lambdified(lx),\n",
    "        label=r\"$y={f}$\".format(f=latex(f(x))))\n",
    "ax.scatter(*zip(*pts))\n",
    "ax.scatter(x_s,f(x_s),c='r')\n",
    "\n",
    "# refine plot\n",
    "ax.axhline(0)\n",
    "ax.axvline(0)\n",
    "ax.grid(True)\n",
    "ax.legend(loc='best')\n",
    "ax.set_xlabel('x')\n",
    "ax.set_ylabel('y')\n",
    "ax.set_title('A polynomial of degree 2')\n",
    "\n",
    "# show result\n",
    "plt.show()"
   ]
  }
 ],
 "metadata": {
  "kernelspec": {
   "display_name": "Python 3 (ipykernel)",
   "language": "python",
   "name": "python3"
  },
  "language_info": {
   "codemirror_mode": {
    "name": "ipython",
    "version": 3
   },
   "file_extension": ".py",
   "mimetype": "text/x-python",
   "name": "python",
   "nbconvert_exporter": "python",
   "pygments_lexer": "ipython3",
   "version": "3.8.11"
  }
 },
 "nbformat": 4,
 "nbformat_minor": 2
}
